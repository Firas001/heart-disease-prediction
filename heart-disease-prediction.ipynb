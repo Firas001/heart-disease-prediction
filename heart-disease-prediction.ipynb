{
 "cells": [
  {
   "cell_type": "code",
   "execution_count": null,
   "metadata": {
    "executionInfo": {
     "elapsed": 1766,
     "status": "ok",
     "timestamp": 1686322007794,
     "user": {
      "displayName": "Firas Hisham",
      "userId": "13988987428035267619"
     },
     "user_tz": -120
    },
    "id": "GZJiSgntlvhM",
    "scrolled": true
   },
   "outputs": [],
   "source": [
    "import pandas as pd\n",
    "import matplotlib.pyplot as plt\n",
    "import seaborn as sns\n",
    "import numpy as np\n",
    "\n",
    "%matplotlib inline\n",
    "sns.set_style(\"whitegrid\")\n",
    "plt.style.use(\"fivethirtyeight\")"
   ]
  },
  {
   "cell_type": "code",
   "execution_count": null,
   "metadata": {
    "colab": {
     "base_uri": "https://localhost:8080/",
     "height": 206
    },
    "executionInfo": {
     "elapsed": 390,
     "status": "ok",
     "timestamp": 1686322192190,
     "user": {
      "displayName": "Firas Hisham",
      "userId": "13988987428035267619"
     },
     "user_tz": -120
    },
    "id": "0GiuId9IoATu",
    "outputId": "cad9ca08-b890-4b07-9aae-5f868424a850",
    "scrolled": true
   },
   "outputs": [],
   "source": [
    "df = pd.read_csv(\"dataset/heart.csv\")\n",
    "df.head()"
   ]
  },
  {
   "cell_type": "code",
   "execution_count": null,
   "metadata": {
    "colab": {
     "base_uri": "https://localhost:8080/",
     "height": 300
    },
    "executionInfo": {
     "elapsed": 457,
     "status": "ok",
     "timestamp": 1686322268316,
     "user": {
      "displayName": "Firas Hisham",
      "userId": "13988987428035267619"
     },
     "user_tz": -120
    },
    "id": "iU0NLeCPo77D",
    "outputId": "7fbda29c-cbd2-4be9-b0dd-0ba29707d3aa",
    "scrolled": true
   },
   "outputs": [],
   "source": [
    "\n",
    "df.describe()"
   ]
  },
  {
   "cell_type": "code",
   "execution_count": null,
   "metadata": {},
   "outputs": [],
   "source": []
  },
  {
   "cell_type": "code",
   "execution_count": null,
   "metadata": {
    "colab": {
     "base_uri": "https://localhost:8080/",
     "height": 461
    },
    "executionInfo": {
     "elapsed": 788,
     "status": "ok",
     "timestamp": 1686322281907,
     "user": {
      "displayName": "Firas Hisham",
      "userId": "13988987428035267619"
     },
     "user_tz": -120
    },
    "id": "7qB-ju6No_Gs",
    "outputId": "43fc0f46-5f83-499d-c6a2-af964c0031dd"
   },
   "outputs": [],
   "source": [
    "ax = df.target.value_counts().plot(kind=\"bar\", color=[\"salmon\", \"lightblue\"])\n",
    "for i in ax.containers:\n",
    "    ax.bar_label(i, label_type='edge', fontsize=10, padding=5)"
   ]
  },
  {
   "cell_type": "code",
   "execution_count": null,
   "metadata": {},
   "outputs": [],
   "source": []
  },
  {
   "cell_type": "code",
   "execution_count": null,
   "metadata": {},
   "outputs": [],
   "source": []
  },
  {
   "cell_type": "code",
   "execution_count": null,
   "metadata": {
    "colab": {
     "base_uri": "https://localhost:8080/"
    },
    "executionInfo": {
     "elapsed": 3,
     "status": "ok",
     "timestamp": 1686322293530,
     "user": {
      "displayName": "Firas Hisham",
      "userId": "13988987428035267619"
     },
     "user_tz": -120
    },
    "id": "Vkohf7YbpCI3",
    "outputId": "44eb8c4f-6ab8-4abc-ae24-42ede5d49d53"
   },
   "outputs": [],
   "source": [
    "# Checking for messing values\n",
    "df.isna().sum()"
   ]
  },
  {
   "cell_type": "code",
   "execution_count": null,
   "metadata": {
    "colab": {
     "base_uri": "https://localhost:8080/"
    },
    "executionInfo": {
     "elapsed": 412,
     "status": "ok",
     "timestamp": 1686322305666,
     "user": {
      "displayName": "Firas Hisham",
      "userId": "13988987428035267619"
     },
     "user_tz": -120
    },
    "id": "8f4aO6impE2z",
    "outputId": "29e830f4-108c-41b0-dcc7-9466f25dc808"
   },
   "outputs": [],
   "source": [
    "categorical_val = []\n",
    "continous_val = []\n",
    "for column in df.columns:\n",
    "    print('==============================')\n",
    "    print(f\"{column} : {df[column].unique()}\")\n",
    "    if len(df[column].unique()) <= 10:\n",
    "        categorical_val.append(column)\n",
    "    else:\n",
    "        continous_val.append(column)"
   ]
  },
  {
   "cell_type": "code",
   "execution_count": null,
   "metadata": {
    "colab": {
     "base_uri": "https://localhost:8080/",
     "height": 1000
    },
    "executionInfo": {
     "elapsed": 7294,
     "status": "ok",
     "timestamp": 1686322324183,
     "user": {
      "displayName": "Firas Hisham",
      "userId": "13988987428035267619"
     },
     "user_tz": -120
    },
    "id": "0XMZXZ-rpH3y",
    "outputId": "6c767503-52c5-4025-a946-662c5c9b8c66"
   },
   "outputs": [],
   "source": [
    "plt.figure(figsize=(15, 15))\n",
    "\n",
    "for i, column in enumerate(categorical_val, 1):\n",
    "    plt.subplot(3, 3, i)\n",
    "    df[df[\"target\"] == 0][column].hist(bins=35, color='blue', label='Have Heart Disease = NO', alpha=0.6)\n",
    "    df[df[\"target\"] == 1][column].hist(bins=35, color='red', label='Have Heart Disease = YES', alpha=0.6)\n",
    "    plt.legend()\n",
    "    plt.xlabel(column)"
   ]
  },
  {
   "cell_type": "code",
   "execution_count": null,
   "metadata": {
    "colab": {
     "base_uri": "https://localhost:8080/",
     "height": 1000
    },
    "executionInfo": {
     "elapsed": 7226,
     "status": "ok",
     "timestamp": 1686322386054,
     "user": {
      "displayName": "Firas Hisham",
      "userId": "13988987428035267619"
     },
     "user_tz": -120
    },
    "id": "R8VCFa7npVs5",
    "outputId": "04e02224-4a45-4498-eadb-eb5561729373"
   },
   "outputs": [],
   "source": [
    "plt.figure(figsize=(15, 15))\n",
    "\n",
    "for i, column in enumerate(continous_val, 1):\n",
    "    plt.subplot(3, 2, i)\n",
    "    df[df[\"target\"] == 0][column].hist(bins=35, color='blue', label='Have Heart Disease = NO', alpha=0.6)\n",
    "    df[df[\"target\"] == 1][column].hist(bins=35, color='red', label='Have Heart Disease = YES', alpha=0.6)\n",
    "    plt.legend()\n",
    "    plt.xlabel(column)"
   ]
  },
  {
   "cell_type": "code",
   "execution_count": null,
   "metadata": {
    "colab": {
     "base_uri": "https://localhost:8080/",
     "height": 767
    },
    "executionInfo": {
     "elapsed": 1027,
     "status": "ok",
     "timestamp": 1686322406759,
     "user": {
      "displayName": "Firas Hisham",
      "userId": "13988987428035267619"
     },
     "user_tz": -120
    },
    "id": "yDrH86tcpdiy",
    "outputId": "8965bb62-f1a3-4152-aabf-e0427ab4d0b6"
   },
   "outputs": [],
   "source": [
    "\n",
    "# Create another figure\n",
    "plt.figure(figsize=(10, 8))\n",
    "\n",
    "# Scatter with postivie examples\n",
    "plt.scatter(df.age[df.target==1],\n",
    "            df.thalach[df.target==1],\n",
    "            c=\"salmon\")\n",
    "\n",
    "# Scatter with negative examples\n",
    "plt.scatter(df.age[df.target==0],\n",
    "            df.thalach[df.target==0],\n",
    "            c=\"lightblue\")\n",
    "\n",
    "# Add some helpful info\n",
    "plt.title(\"Heart Disease in function of Age and Max Heart Rate\")\n",
    "plt.xlabel(\"Age\")\n",
    "plt.ylabel(\"Max Heart Rate\")\n",
    "plt.legend([\"Disease\", \"No Disease\"]);\n"
   ]
  },
  {
   "cell_type": "code",
   "execution_count": null,
   "metadata": {
    "colab": {
     "base_uri": "https://localhost:8080/",
     "height": 1000
    },
    "executionInfo": {
     "elapsed": 2443,
     "status": "ok",
     "timestamp": 1686322422007,
     "user": {
      "displayName": "Firas Hisham",
      "userId": "13988987428035267619"
     },
     "user_tz": -120
    },
    "id": "kYqiNYKMpgjE",
    "outputId": "dc990455-6fad-4b13-dfd9-dfba09646f1f"
   },
   "outputs": [],
   "source": [
    "# Let's make our correlation matrix a little prettier\n",
    "corr_matrix = df.corr()\n",
    "fig, ax = plt.subplots(figsize=(15, 15))\n",
    "ax = sns.heatmap(corr_matrix,\n",
    "                 annot=True,\n",
    "                 linewidths=0.5,\n",
    "                 fmt=\".2f\",\n",
    "                 cmap=\"YlGnBu\");\n",
    "bottom, top = ax.get_ylim()\n",
    "ax.set_ylim(bottom + 0.5, top - 0.5)\n"
   ]
  },
  {
   "cell_type": "code",
   "execution_count": null,
   "metadata": {
    "colab": {
     "base_uri": "https://localhost:8080/",
     "height": 816
    },
    "executionInfo": {
     "elapsed": 3459,
     "status": "ok",
     "timestamp": 1686322437735,
     "user": {
      "displayName": "Firas Hisham",
      "userId": "13988987428035267619"
     },
     "user_tz": -120
    },
    "id": "hFFoNdTXpkdg",
    "outputId": "f6056d53-7331-49fd-d6a3-4ed9e26b4c33"
   },
   "outputs": [],
   "source": [
    "\n",
    "\n",
    "df.drop('target', axis=1).corrwith(df.target).plot(kind='bar', grid=True, figsize=(12, 8), \n",
    "                                                   title=\"Correlation with target\")"
   ]
  },
  {
   "cell_type": "code",
   "execution_count": null,
   "metadata": {},
   "outputs": [],
   "source": [
    "categorical_val.remove('target')\n",
    "dataset = pd.get_dummies(df, columns = categorical_val)\n",
    "\n",
    "from sklearn.preprocessing import StandardScaler\n",
    "\n",
    "s_sc = StandardScaler()\n",
    "col_to_scale = ['age', 'trestbps', 'chol', 'thalach', 'oldpeak']\n",
    "dataset[col_to_scale] = s_sc.fit_transform(dataset[col_to_scale])"
   ]
  },
  {
   "cell_type": "code",
   "execution_count": null,
   "metadata": {
    "executionInfo": {
     "elapsed": 397,
     "status": "ok",
     "timestamp": 1686322479121,
     "user": {
      "displayName": "Firas Hisham",
      "userId": "13988987428035267619"
     },
     "user_tz": -120
    },
    "id": "b2A1asRCpvOe"
   },
   "outputs": [],
   "source": [
    "from sklearn.metrics import accuracy_score, confusion_matrix, classification_report\n",
    "\n",
    "def print_score(clf, X_train, y_train, X_test, y_test, train=True):\n",
    "    if train:\n",
    "        pred = clf.predict(X_train)\n",
    "        clf_report = pd.DataFrame(classification_report(y_train, pred, output_dict=True))\n",
    "        print(\"Train Result:\\n================================================\")\n",
    "        print(f\"Accuracy Score: {accuracy_score(y_train, pred) * 100:.2f}%\")\n",
    "        print(\"_______________________________________________\")\n",
    "        print(f\"CLASSIFICATION REPORT:\\n{clf_report}\")\n",
    "        print(\"_______________________________________________\")\n",
    "        print(f\"Confusion Matrix: \\n {confusion_matrix(y_train, pred)}\\n\")\n",
    "        \n",
    "    elif train==False:\n",
    "        pred = clf.predict(X_test)\n",
    "        clf_report = pd.DataFrame(classification_report(y_test, pred, output_dict=True))\n",
    "        print(\"Test Result:\\n================================================\")        \n",
    "        print(f\"Accuracy Score: {accuracy_score(y_test, pred) * 100:.2f}%\")\n",
    "        print(\"_______________________________________________\")\n",
    "        print(f\"CLASSIFICATION REPORT:\\n{clf_report}\")\n",
    "        print(\"_______________________________________________\")\n",
    "        print(f\"Confusion Matrix: \\n {confusion_matrix(y_test, pred)}\\n\")"
   ]
  },
  {
   "cell_type": "code",
   "execution_count": null,
   "metadata": {
    "executionInfo": {
     "elapsed": 453,
     "status": "ok",
     "timestamp": 1686322495864,
     "user": {
      "displayName": "Firas Hisham",
      "userId": "13988987428035267619"
     },
     "user_tz": -120
    },
    "id": "hIwnJ6gBpzMJ"
   },
   "outputs": [],
   "source": [
    "from sklearn.model_selection import train_test_split\n",
    "\n",
    "X = dataset.drop('target', axis=1)\n",
    "y = dataset.target\n",
    "\n",
    "X_train, X_test, y_train, y_test = train_test_split(X, y, test_size=0.3, random_state=42)"
   ]
  },
  {
   "cell_type": "code",
   "execution_count": null,
   "metadata": {
    "colab": {
     "base_uri": "https://localhost:8080/"
    },
    "executionInfo": {
     "elapsed": 795,
     "status": "ok",
     "timestamp": 1686322506409,
     "user": {
      "displayName": "Firas Hisham",
      "userId": "13988987428035267619"
     },
     "user_tz": -120
    },
    "id": "oi5C02dap1_1",
    "outputId": "b8d6989b-2b17-42ab-f4f2-7969513938a0"
   },
   "outputs": [],
   "source": [
    "from sklearn.linear_model import LogisticRegression\n",
    "\n",
    "classifier1 = LogisticRegression(solver='liblinear')\n",
    "classifier1.fit(X_train, y_train)\n",
    "\n",
    "print_score(classifier1, X_train, y_train, X_test, y_test, train=True)\n",
    "print_score(classifier1, X_train, y_train, X_test, y_test, train=False)"
   ]
  },
  {
   "cell_type": "code",
   "execution_count": null,
   "metadata": {},
   "outputs": [],
   "source": [
    "from sklearn.svm import SVC\n",
    "\n",
    "classifier2 = SVC(kernel='linear', C=10, gamma='scale')\n",
    "\n",
    "classifier2.fit(X_train, y_train)\n",
    "\n",
    "print_score(classifier2, X_train, y_train, X_test, y_test, train=True)\n",
    "print_score(classifier2, X_train, y_train, X_test, y_test, train=False)"
   ]
  },
  {
   "cell_type": "code",
   "execution_count": null,
   "metadata": {},
   "outputs": [],
   "source": [
    "from sklearn.ensemble import RandomForestClassifier\n",
    "\n",
    "classifier3 = RandomForestClassifier(random_state=123, n_estimators=150)\n",
    "classifier3.fit(X_train, y_train)\n",
    "\n",
    "print_score(classifier3, X_train, y_train, X_test, y_test, train=True)\n",
    "print_score(classifier3, X_train, y_train, X_test, y_test, train=False)"
   ]
  },
  {
   "cell_type": "code",
   "execution_count": null,
   "metadata": {
    "colab": {
     "base_uri": "https://localhost:8080/",
     "height": 81
    },
    "executionInfo": {
     "elapsed": 478,
     "status": "ok",
     "timestamp": 1686322522874,
     "user": {
      "displayName": "Firas Hisham",
      "userId": "13988987428035267619"
     },
     "user_tz": -120
    },
    "id": "1DXZiXSup58s",
    "outputId": "d19814ed-9bf4-4916-c75e-d5d59b595780"
   },
   "outputs": [],
   "source": [
    "test_score = accuracy_score(y_test, classifier3.predict(X_test)) * 100\n",
    "train_score = accuracy_score(y_train, classifier3.predict(X_train)) * 100\n",
    "\n",
    "results_df = pd.DataFrame(data=[[\"Random Forest\", train_score, test_score]], \n",
    "                          columns=['Model', 'Training Accuracy %', 'Testing Accuracy %'])\n",
    "results_df"
   ]
  }
 ],
 "metadata": {
  "colab": {
   "authorship_tag": "ABX9TyOdeIoj8QRQGAtse5JSWk0t",
   "mount_file_id": "1a_TbYggU1Ag_Z16IDnhvK77nSfU9cy8J",
   "provenance": []
  },
  "kernelspec": {
   "display_name": "Python 3 (ipykernel)",
   "language": "python",
   "name": "python3"
  },
  "language_info": {
   "codemirror_mode": {
    "name": "ipython",
    "version": 3
   },
   "file_extension": ".py",
   "mimetype": "text/x-python",
   "name": "python",
   "nbconvert_exporter": "python",
   "pygments_lexer": "ipython3",
   "version": "3.11.0"
  }
 },
 "nbformat": 4,
 "nbformat_minor": 1
}
